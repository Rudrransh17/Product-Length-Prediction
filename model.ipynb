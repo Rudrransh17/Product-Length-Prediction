{
  "cells": [
    {
      "cell_type": "code",
      "source": [
        "from google.colab import drive\n",
        "drive.mount('/content/drive')"
      ],
      "metadata": {
        "colab": {
          "base_uri": "https://localhost:8080/"
        },
        "id": "Me5pWEHb22AI",
        "outputId": "3b6d9bad-b1e1-4faa-fbf6-4e292d17aac8"
      },
      "id": "Me5pWEHb22AI",
      "execution_count": 1,
      "outputs": [
        {
          "output_type": "stream",
          "name": "stdout",
          "text": [
            "Mounted at /content/drive\n"
          ]
        }
      ]
    },
    {
      "cell_type": "markdown",
      "id": "d75c26ec",
      "metadata": {
        "id": "d75c26ec"
      },
      "source": [
        "## Reading data "
      ]
    },
    {
      "cell_type": "code",
      "execution_count": 5,
      "id": "519d62ae",
      "metadata": {
        "colab": {
          "base_uri": "https://localhost:8080/",
          "height": 475
        },
        "id": "519d62ae",
        "outputId": "92be1f50-638c-4346-cdfd-039d62692a46"
      },
      "outputs": [
        {
          "output_type": "execute_result",
          "data": {
            "text/plain": [
              "   PRODUCT_ID                                              TITLE  \\\n",
              "0     1925202  ArtzFolio Tulip Flowers Blackout Curtain for D...   \n",
              "1     2673191  Marks & Spencer Girls' Pyjama Sets T86_2561C_N...   \n",
              "2     2765088  PRIKNIK Horn Red Electric Air Horn Compressor ...   \n",
              "3     1594019  ALISHAH Women's Cotton Ankle Length Leggings C...   \n",
              "4      283658  The United Empire Loyalists: A Chronicle of th...   \n",
              "\n",
              "                                       BULLET_POINTS  \\\n",
              "0  [LUXURIOUS & APPEALING: Beautiful custom-made ...   \n",
              "1  [Harry Potter Hedwig Pyjamas (6-16 Yrs),100% c...   \n",
              "2  [Loud Dual Tone Trumpet Horn, Compatible With ...   \n",
              "3  [Made By 95%cotton and 5% Lycra which gives yo...   \n",
              "4                                                NaN   \n",
              "\n",
              "                                         DESCRIPTION  PRODUCT_TYPE_ID  \\\n",
              "0                                                NaN             1650   \n",
              "1                                                NaN             2755   \n",
              "2  Specifications: Color: Red, Material: Aluminiu...             7537   \n",
              "3  AISHAH Women's Lycra Cotton Ankel Leggings. Br...             2996   \n",
              "4                                                NaN             6112   \n",
              "\n",
              "   PRODUCT_LENGTH  \n",
              "0     2125.980000  \n",
              "1      393.700000  \n",
              "2      748.031495  \n",
              "3      787.401574  \n",
              "4      598.424000  "
            ],
            "text/html": [
              "\n",
              "  <div id=\"df-e3aea331-a83e-449e-8912-390a8a8ba543\">\n",
              "    <div class=\"colab-df-container\">\n",
              "      <div>\n",
              "<style scoped>\n",
              "    .dataframe tbody tr th:only-of-type {\n",
              "        vertical-align: middle;\n",
              "    }\n",
              "\n",
              "    .dataframe tbody tr th {\n",
              "        vertical-align: top;\n",
              "    }\n",
              "\n",
              "    .dataframe thead th {\n",
              "        text-align: right;\n",
              "    }\n",
              "</style>\n",
              "<table border=\"1\" class=\"dataframe\">\n",
              "  <thead>\n",
              "    <tr style=\"text-align: right;\">\n",
              "      <th></th>\n",
              "      <th>PRODUCT_ID</th>\n",
              "      <th>TITLE</th>\n",
              "      <th>BULLET_POINTS</th>\n",
              "      <th>DESCRIPTION</th>\n",
              "      <th>PRODUCT_TYPE_ID</th>\n",
              "      <th>PRODUCT_LENGTH</th>\n",
              "    </tr>\n",
              "  </thead>\n",
              "  <tbody>\n",
              "    <tr>\n",
              "      <th>0</th>\n",
              "      <td>1925202</td>\n",
              "      <td>ArtzFolio Tulip Flowers Blackout Curtain for D...</td>\n",
              "      <td>[LUXURIOUS &amp; APPEALING: Beautiful custom-made ...</td>\n",
              "      <td>NaN</td>\n",
              "      <td>1650</td>\n",
              "      <td>2125.980000</td>\n",
              "    </tr>\n",
              "    <tr>\n",
              "      <th>1</th>\n",
              "      <td>2673191</td>\n",
              "      <td>Marks &amp; Spencer Girls' Pyjama Sets T86_2561C_N...</td>\n",
              "      <td>[Harry Potter Hedwig Pyjamas (6-16 Yrs),100% c...</td>\n",
              "      <td>NaN</td>\n",
              "      <td>2755</td>\n",
              "      <td>393.700000</td>\n",
              "    </tr>\n",
              "    <tr>\n",
              "      <th>2</th>\n",
              "      <td>2765088</td>\n",
              "      <td>PRIKNIK Horn Red Electric Air Horn Compressor ...</td>\n",
              "      <td>[Loud Dual Tone Trumpet Horn, Compatible With ...</td>\n",
              "      <td>Specifications: Color: Red, Material: Aluminiu...</td>\n",
              "      <td>7537</td>\n",
              "      <td>748.031495</td>\n",
              "    </tr>\n",
              "    <tr>\n",
              "      <th>3</th>\n",
              "      <td>1594019</td>\n",
              "      <td>ALISHAH Women's Cotton Ankle Length Leggings C...</td>\n",
              "      <td>[Made By 95%cotton and 5% Lycra which gives yo...</td>\n",
              "      <td>AISHAH Women's Lycra Cotton Ankel Leggings. Br...</td>\n",
              "      <td>2996</td>\n",
              "      <td>787.401574</td>\n",
              "    </tr>\n",
              "    <tr>\n",
              "      <th>4</th>\n",
              "      <td>283658</td>\n",
              "      <td>The United Empire Loyalists: A Chronicle of th...</td>\n",
              "      <td>NaN</td>\n",
              "      <td>NaN</td>\n",
              "      <td>6112</td>\n",
              "      <td>598.424000</td>\n",
              "    </tr>\n",
              "  </tbody>\n",
              "</table>\n",
              "</div>\n",
              "      <button class=\"colab-df-convert\" onclick=\"convertToInteractive('df-e3aea331-a83e-449e-8912-390a8a8ba543')\"\n",
              "              title=\"Convert this dataframe to an interactive table.\"\n",
              "              style=\"display:none;\">\n",
              "        \n",
              "  <svg xmlns=\"http://www.w3.org/2000/svg\" height=\"24px\"viewBox=\"0 0 24 24\"\n",
              "       width=\"24px\">\n",
              "    <path d=\"M0 0h24v24H0V0z\" fill=\"none\"/>\n",
              "    <path d=\"M18.56 5.44l.94 2.06.94-2.06 2.06-.94-2.06-.94-.94-2.06-.94 2.06-2.06.94zm-11 1L8.5 8.5l.94-2.06 2.06-.94-2.06-.94L8.5 2.5l-.94 2.06-2.06.94zm10 10l.94 2.06.94-2.06 2.06-.94-2.06-.94-.94-2.06-.94 2.06-2.06.94z\"/><path d=\"M17.41 7.96l-1.37-1.37c-.4-.4-.92-.59-1.43-.59-.52 0-1.04.2-1.43.59L10.3 9.45l-7.72 7.72c-.78.78-.78 2.05 0 2.83L4 21.41c.39.39.9.59 1.41.59.51 0 1.02-.2 1.41-.59l7.78-7.78 2.81-2.81c.8-.78.8-2.07 0-2.86zM5.41 20L4 18.59l7.72-7.72 1.47 1.35L5.41 20z\"/>\n",
              "  </svg>\n",
              "      </button>\n",
              "      \n",
              "  <style>\n",
              "    .colab-df-container {\n",
              "      display:flex;\n",
              "      flex-wrap:wrap;\n",
              "      gap: 12px;\n",
              "    }\n",
              "\n",
              "    .colab-df-convert {\n",
              "      background-color: #E8F0FE;\n",
              "      border: none;\n",
              "      border-radius: 50%;\n",
              "      cursor: pointer;\n",
              "      display: none;\n",
              "      fill: #1967D2;\n",
              "      height: 32px;\n",
              "      padding: 0 0 0 0;\n",
              "      width: 32px;\n",
              "    }\n",
              "\n",
              "    .colab-df-convert:hover {\n",
              "      background-color: #E2EBFA;\n",
              "      box-shadow: 0px 1px 2px rgba(60, 64, 67, 0.3), 0px 1px 3px 1px rgba(60, 64, 67, 0.15);\n",
              "      fill: #174EA6;\n",
              "    }\n",
              "\n",
              "    [theme=dark] .colab-df-convert {\n",
              "      background-color: #3B4455;\n",
              "      fill: #D2E3FC;\n",
              "    }\n",
              "\n",
              "    [theme=dark] .colab-df-convert:hover {\n",
              "      background-color: #434B5C;\n",
              "      box-shadow: 0px 1px 3px 1px rgba(0, 0, 0, 0.15);\n",
              "      filter: drop-shadow(0px 1px 2px rgba(0, 0, 0, 0.3));\n",
              "      fill: #FFFFFF;\n",
              "    }\n",
              "  </style>\n",
              "\n",
              "      <script>\n",
              "        const buttonEl =\n",
              "          document.querySelector('#df-e3aea331-a83e-449e-8912-390a8a8ba543 button.colab-df-convert');\n",
              "        buttonEl.style.display =\n",
              "          google.colab.kernel.accessAllowed ? 'block' : 'none';\n",
              "\n",
              "        async function convertToInteractive(key) {\n",
              "          const element = document.querySelector('#df-e3aea331-a83e-449e-8912-390a8a8ba543');\n",
              "          const dataTable =\n",
              "            await google.colab.kernel.invokeFunction('convertToInteractive',\n",
              "                                                     [key], {});\n",
              "          if (!dataTable) return;\n",
              "\n",
              "          const docLinkHtml = 'Like what you see? Visit the ' +\n",
              "            '<a target=\"_blank\" href=https://colab.research.google.com/notebooks/data_table.ipynb>data table notebook</a>'\n",
              "            + ' to learn more about interactive tables.';\n",
              "          element.innerHTML = '';\n",
              "          dataTable['output_type'] = 'display_data';\n",
              "          await google.colab.output.renderOutput(dataTable, element);\n",
              "          const docLink = document.createElement('div');\n",
              "          docLink.innerHTML = docLinkHtml;\n",
              "          element.appendChild(docLink);\n",
              "        }\n",
              "      </script>\n",
              "    </div>\n",
              "  </div>\n",
              "  "
            ]
          },
          "metadata": {},
          "execution_count": 5
        }
      ],
      "source": [
        "import pandas as pd\n",
        "\n",
        "df = pd.read_csv('/content/drive/MyDrive/Product Length Prediction/train.csv')\n",
        "\n",
        "df.head()"
      ]
    },
    {
      "cell_type": "code",
      "execution_count": 6,
      "id": "bda6ec55",
      "metadata": {
        "colab": {
          "base_uri": "https://localhost:8080/"
        },
        "id": "bda6ec55",
        "outputId": "80512c89-89fb-49e0-b2ac-b25cf142ae93"
      },
      "outputs": [
        {
          "output_type": "execute_result",
          "data": {
            "text/plain": [
              "(100000, 6)"
            ]
          },
          "metadata": {},
          "execution_count": 6
        }
      ],
      "source": [
        "df.shape"
      ]
    },
    {
      "cell_type": "markdown",
      "id": "5eb1a3a2",
      "metadata": {
        "id": "5eb1a3a2"
      },
      "source": [
        "## Removing rows with missing values "
      ]
    },
    {
      "cell_type": "code",
      "execution_count": 7,
      "id": "b8a7b082",
      "metadata": {
        "colab": {
          "base_uri": "https://localhost:8080/"
        },
        "id": "b8a7b082",
        "outputId": "2ea9a0b7-561a-488d-daa7-892eeab7f686"
      },
      "outputs": [
        {
          "output_type": "execute_result",
          "data": {
            "text/plain": [
              "(65196, 6)"
            ]
          },
          "metadata": {},
          "execution_count": 7
        }
      ],
      "source": [
        "# Remove rows where both 'BULLET_POINTS' and 'DESCRIPTION' are empty\n",
        "df.dropna(subset=['BULLET_POINTS', 'DESCRIPTION'], how='all', inplace=True)\n",
        "\n",
        "df.shape"
      ]
    },
    {
      "cell_type": "markdown",
      "id": "a1cdc4b9",
      "metadata": {
        "id": "a1cdc4b9"
      },
      "source": [
        "## Convert data to tokens "
      ]
    },
    {
      "cell_type": "code",
      "execution_count": 8,
      "id": "70236a1e",
      "metadata": {
        "colab": {
          "base_uri": "https://localhost:8080/"
        },
        "id": "70236a1e",
        "outputId": "49f49fe7-7527-4088-ce61-57902a8c46d7"
      },
      "outputs": [
        {
          "output_type": "stream",
          "name": "stderr",
          "text": [
            "[nltk_data] Downloading package punkt to /root/nltk_data...\n",
            "[nltk_data]   Unzipping tokenizers/punkt.zip.\n",
            "[nltk_data] Downloading package stopwords to /root/nltk_data...\n",
            "[nltk_data]   Unzipping corpora/stopwords.zip.\n",
            "[nltk_data] Downloading package wordnet to /root/nltk_data...\n"
          ]
        }
      ],
      "source": [
        "import string\n",
        "import nltk\n",
        "nltk.download('punkt')\n",
        "nltk.download('stopwords')\n",
        "nltk.download('wordnet')\n",
        "from nltk.tokenize import word_tokenize\n",
        "from nltk.corpus import stopwords\n",
        "from nltk.stem import WordNetLemmatizer \n",
        "\n",
        "\n",
        "# Define a function to preprocess and tokenize the text\n",
        "def preprocess_text(text):\n",
        "    text = str(text)\n",
        "    # Lowercase the text\n",
        "    text = text.lower()\n",
        "    # Remove punctuation\n",
        "    text = text.translate(str.maketrans('', '', string.punctuation))\n",
        "    # Tokenize the text\n",
        "    tokens = word_tokenize(text)\n",
        "    # Remove stop words\n",
        "    stop_words = set(stopwords.words('english'))\n",
        "    filtered_tokens = [token for token in tokens if not token in stop_words]\n",
        "    # Lemmatize the tokens\n",
        "    lemmatizer = WordNetLemmatizer() \n",
        "    lemmatized_tokens = [lemmatizer.lemmatize(token) for token in filtered_tokens]\n",
        "    # Return the preprocessed and tokenized text as a single string\n",
        "    return ' '.join(lemmatized_tokens)\n",
        "\n",
        "\n",
        "# Apply the preprocessing function to each column of text and store the union of tokens in a new column\n",
        "df['TOKENS'] = df['TITLE'].apply(preprocess_text) + ' ' + df['BULLET_POINTS'].apply(preprocess_text) + ' ' + df['DESCRIPTION'].apply(preprocess_text)"
      ]
    },
    {
      "cell_type": "markdown",
      "id": "aaa1c8e3",
      "metadata": {
        "id": "aaa1c8e3"
      },
      "source": [
        "## Using TF-IDF Encoding to convert tokens into vectors "
      ]
    },
    {
      "cell_type": "code",
      "execution_count": 9,
      "id": "ac7c785a",
      "metadata": {
        "id": "ac7c785a"
      },
      "outputs": [],
      "source": [
        "from sklearn.feature_extraction.text import TfidfVectorizer\n",
        "\n",
        "# Perform TF-IDF encoding on the tokens column\n",
        "tfidf = TfidfVectorizer(max_features=250)\n",
        "x = tfidf.fit_transform(df['TOKENS'])\n",
        "\n",
        "\n",
        "y = df['PRODUCT_LENGTH']"
      ]
    },
    {
      "cell_type": "markdown",
      "id": "bb5bc7a9",
      "metadata": {
        "id": "bb5bc7a9"
      },
      "source": [
        "## Splitting into train and validation data "
      ]
    },
    {
      "cell_type": "code",
      "execution_count": 10,
      "id": "d3d3b3f5",
      "metadata": {
        "id": "d3d3b3f5"
      },
      "outputs": [],
      "source": [
        "from sklearn.model_selection import train_test_split\n",
        "from sklearn.metrics import mean_absolute_percentage_error\n",
        "\n",
        "\n",
        "x_train, x_val, y_train, y_val = train_test_split(x, y, test_size=0.2, random_state=42)"
      ]
    },
    {
      "cell_type": "markdown",
      "id": "a22bab8d",
      "metadata": {
        "id": "a22bab8d"
      },
      "source": [
        "## Defining the Neural Network "
      ]
    },
    {
      "cell_type": "code",
      "execution_count": 11,
      "id": "d2337892",
      "metadata": {
        "id": "d2337892"
      },
      "outputs": [],
      "source": [
        "from tensorflow import keras\n",
        "from tensorflow.keras import layers\n",
        "from tensorflow.keras.callbacks import EarlyStopping\n",
        "\n",
        "\n",
        "early_stopping = EarlyStopping(\n",
        "    min_delta=1, # minimium amount of change to count as an improvement\n",
        "    patience=5, # how many epochs to wait before stopping\n",
        "    restore_best_weights=True,\n",
        ")\n",
        "\n",
        "model = keras.Sequential([\n",
        "    layers.BatchNormalization(),\n",
        "    layers.Dense(2048, activation='relu', input_shape=[250]),\n",
        "    layers.Dropout(0.3),\n",
        "    layers.BatchNormalization(),\n",
        "    layers.Dense(2048, activation='relu'),\n",
        "    layers.Dropout(0.3),\n",
        "    layers.BatchNormalization(),\n",
        "    layers.Dense(2048, activation='relu'),\n",
        "    layers.Dropout(0.3),\n",
        "    layers.BatchNormalization(),\n",
        "    layers.Dense(1024, activation='relu'),\n",
        "    layers.Dropout(0.3),\n",
        "    layers.BatchNormalization(),\n",
        "    layers.Dense(1024, activation='relu'),\n",
        "    layers.Dropout(0.3),\n",
        "    layers.BatchNormalization(),\n",
        "    layers.Dense(1024, activation='relu'),\n",
        "    layers.Dropout(0.3),\n",
        "    layers.BatchNormalization(),\n",
        "    layers.Dense(1),\n",
        "])\n",
        "\n",
        "# Compile the model\n",
        "model.compile(loss='mean_absolute_percentage_error', optimizer='adam')"
      ]
    },
    {
      "cell_type": "markdown",
      "id": "5513d8f2",
      "metadata": {
        "id": "5513d8f2"
      },
      "source": [
        "## Fitting the model "
      ]
    },
    {
      "cell_type": "code",
      "execution_count": 12,
      "id": "31dec346",
      "metadata": {
        "colab": {
          "base_uri": "https://localhost:8080/"
        },
        "id": "31dec346",
        "outputId": "2529fc01-4ced-4949-8410-ec6f4d8f6778"
      },
      "outputs": [
        {
          "output_type": "stream",
          "name": "stdout",
          "text": [
            "Epoch 1/50\n",
            "204/204 [==============================] - 14s 15ms/step - loss: 99.9012 - val_loss: 98.9945\n",
            "Epoch 2/50\n",
            "204/204 [==============================] - 3s 15ms/step - loss: 98.0470 - val_loss: 96.5597\n",
            "Epoch 3/50\n",
            "204/204 [==============================] - 3s 14ms/step - loss: 95.4246 - val_loss: 92.9189\n",
            "Epoch 4/50\n",
            "204/204 [==============================] - 2s 12ms/step - loss: 92.1381 - val_loss: 90.8194\n",
            "Epoch 5/50\n",
            "204/204 [==============================] - 3s 13ms/step - loss: 88.5811 - val_loss: 90.3485\n",
            "Epoch 6/50\n",
            "204/204 [==============================] - 2s 12ms/step - loss: 84.1519 - val_loss: 94.6626\n",
            "Epoch 7/50\n",
            "204/204 [==============================] - 3s 14ms/step - loss: 80.0745 - val_loss: 89.4102\n",
            "Epoch 8/50\n",
            "204/204 [==============================] - 3s 15ms/step - loss: 76.6026 - val_loss: 94.8597\n",
            "Epoch 9/50\n",
            "204/204 [==============================] - 2s 12ms/step - loss: 73.4788 - val_loss: 96.1484\n",
            "Epoch 10/50\n",
            "204/204 [==============================] - 3s 12ms/step - loss: 70.6264 - val_loss: 98.9750\n",
            "Epoch 11/50\n",
            "204/204 [==============================] - 3s 12ms/step - loss: 70.2984 - val_loss: 128.2164\n",
            "Epoch 12/50\n",
            "204/204 [==============================] - 3s 14ms/step - loss: 71.2576 - val_loss: 91.8133\n"
          ]
        },
        {
          "output_type": "execute_result",
          "data": {
            "text/plain": [
              "<keras.callbacks.History at 0x7fdc7c0a0ca0>"
            ]
          },
          "metadata": {},
          "execution_count": 12
        }
      ],
      "source": [
        "# Train the model\n",
        "model.fit(x_train.toarray(), y_train, \n",
        "          epochs=50, \n",
        "          batch_size=256,\n",
        "          validation_data=(x_val.toarray(), y_val),\n",
        "          callbacks=[early_stopping],\n",
        "          )"
      ]
    },
    {
      "cell_type": "markdown",
      "id": "07f91b25",
      "metadata": {
        "id": "07f91b25"
      },
      "source": [
        "## Validating the model "
      ]
    },
    {
      "cell_type": "code",
      "execution_count": 13,
      "id": "50b32401",
      "metadata": {
        "colab": {
          "base_uri": "https://localhost:8080/"
        },
        "id": "50b32401",
        "outputId": "cc4d648e-26c8-4884-886f-af263768dc40"
      },
      "outputs": [
        {
          "output_type": "stream",
          "name": "stdout",
          "text": [
            "408/408 [==============================] - 1s 2ms/step\n",
            "Mean Absolute Percentage Error: 0.8941021357038041\n"
          ]
        }
      ],
      "source": [
        "# Make predictions\n",
        "y_pred = model.predict(x_val.toarray())\n",
        "\n",
        "# Calculate the mean absolute percentage error on the validation set\n",
        "mape = mean_absolute_percentage_error(y_val, y_pred)\n",
        "print(\"Mean Absolute Percentage Error:\", mape)"
      ]
    },
    {
      "cell_type": "markdown",
      "id": "37d710da",
      "metadata": {
        "id": "37d710da"
      },
      "source": [
        "## Making predictions on test file "
      ]
    },
    {
      "cell_type": "code",
      "execution_count": 16,
      "id": "6305c401",
      "metadata": {
        "colab": {
          "base_uri": "https://localhost:8080/"
        },
        "id": "6305c401",
        "outputId": "22cf1767-fea1-4239-c0d2-9d8f9565abc3"
      },
      "outputs": [
        {
          "output_type": "stream",
          "name": "stdout",
          "text": [
            "3125/3125 [==============================] - 8s 2ms/step\n",
            "Mean Absolute Percentage Error: 1.0431448745102752\n"
          ]
        }
      ],
      "source": [
        "test_df = pd.read_csv(\"/content/drive/MyDrive/Product Length Prediction/test.csv\")\n",
        "\n",
        "# Apply the preprocessing function to each column of text and store the union of tokens in a new column\n",
        "test_df['TOKENS'] = test_df['TITLE'].apply(preprocess_text) + ' ' + test_df['BULLET_POINTS'].apply(preprocess_text) + ' ' + test_df['DESCRIPTION'].apply(preprocess_text)\n",
        "\n",
        "# Perform TF-IDF encoding on the tokens column\n",
        "tfidf = TfidfVectorizer(max_features=250)\n",
        "x_test = tfidf.fit_transform(test_df['TOKENS'])\n",
        "\n",
        "y_test = test_df['PRODUCT_LENGTH']\n",
        "\n",
        "y_test_pred = model.predict(x_test.toarray())\n",
        "\n",
        "# Calculate the mean absolute percentage error on the test set\n",
        "mape = mean_absolute_percentage_error(y_test, y_test_pred)\n",
        "print(\"Mean Absolute Percentage Error:\", mape)"
      ]
    },
    {
      "cell_type": "code",
      "source": [],
      "metadata": {
        "id": "l3mh6Yj08pEm"
      },
      "id": "l3mh6Yj08pEm",
      "execution_count": null,
      "outputs": []
    }
  ],
  "metadata": {
    "kernelspec": {
      "display_name": "Python 3 (ipykernel)",
      "language": "python",
      "name": "python3"
    },
    "language_info": {
      "codemirror_mode": {
        "name": "ipython",
        "version": 3
      },
      "file_extension": ".py",
      "mimetype": "text/x-python",
      "name": "python",
      "nbconvert_exporter": "python",
      "pygments_lexer": "ipython3",
      "version": "3.11.2"
    },
    "colab": {
      "provenance": []
    },
    "accelerator": "GPU",
    "gpuClass": "standard"
  },
  "nbformat": 4,
  "nbformat_minor": 5
}